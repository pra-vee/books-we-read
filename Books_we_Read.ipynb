{
 "cells": [
  {
   "cell_type": "code",
   "execution_count": 1,
   "metadata": {},
   "outputs": [],
   "source": [
    "import numpy as np\n",
    "import pandas as pd\n",
    "import matplotlib.pyplot as plt\n",
    "import seaborn as sns\n",
    "from sklearn.ensemble import RandomForestClassifier\n",
    "from sklearn.linear_model import LassoCV\n",
    "from sklearn.model_selection import train_test_split\n",
    "from sklearn import metrics"
   ]
  },
  {
   "cell_type": "code",
   "execution_count": 2,
   "metadata": {},
   "outputs": [],
   "source": [
    "#r = pd.read_csv( 'ratings.csv' )\n",
    "#tr = pd.read_csv( 'to_read.csv' )\n",
    "b = pd.read_csv( 'books.csv' )\n",
    "t = pd.read_csv( 'tags.csv' )\n",
    "bt = pd.read_csv( 'book_tags.csv' )"
   ]
  },
  {
   "cell_type": "markdown",
   "metadata": {},
   "source": [
    "# Data"
   ]
  },
  {
   "cell_type": "markdown",
   "metadata": {},
   "source": [
    "### Books"
   ]
  },
  {
   "cell_type": "code",
   "execution_count": 3,
   "metadata": {},
   "outputs": [
    {
     "data": {
      "text/plain": [
       "Index(['book_id', 'goodreads_book_id', 'best_book_id', 'work_id',\n",
       "       'books_count', 'isbn', 'isbn13', 'authors', 'original_publication_year',\n",
       "       'original_title', 'title', 'language_code', 'average_rating',\n",
       "       'ratings_count', 'work_ratings_count', 'work_text_reviews_count',\n",
       "       'ratings_1', 'ratings_2', 'ratings_3', 'ratings_4', 'ratings_5',\n",
       "       'image_url', 'small_image_url'],\n",
       "      dtype='object')"
      ]
     },
     "execution_count": 3,
     "metadata": {},
     "output_type": "execute_result"
    }
   ],
   "source": [
    "b.columns"
   ]
  },
  {
   "cell_type": "markdown",
   "metadata": {},
   "source": [
    "Books are sorted by their popularity, as measured by number of ratings (overall, not in this dataset)."
   ]
  },
  {
   "cell_type": "code",
   "execution_count": 4,
   "metadata": {},
   "outputs": [
    {
     "data": {
      "text/plain": [
       "10000"
      ]
     },
     "execution_count": 4,
     "metadata": {},
     "output_type": "execute_result"
    }
   ],
   "source": [
    "len(b)"
   ]
  },
  {
   "cell_type": "code",
   "execution_count": 5,
   "metadata": {},
   "outputs": [
    {
     "data": {
      "text/plain": [
       "Index(['book_id', 'goodreads_book_id', 'best_book_id', 'work_id',\n",
       "       'books_count', 'isbn', 'isbn13', 'authors', 'original_publication_year',\n",
       "       'original_title', 'title', 'language_code', 'average_rating',\n",
       "       'ratings_count', 'work_ratings_count', 'work_text_reviews_count',\n",
       "       'ratings_1', 'ratings_2', 'ratings_3', 'ratings_4', 'ratings_5',\n",
       "       'image_url', 'small_image_url'],\n",
       "      dtype='object')"
      ]
     },
     "execution_count": 5,
     "metadata": {},
     "output_type": "execute_result"
    }
   ],
   "source": [
    "b.columns"
   ]
  },
  {
   "cell_type": "markdown",
   "metadata": {},
   "source": [
    "### Tags"
   ]
  },
  {
   "cell_type": "code",
   "execution_count": 6,
   "metadata": {},
   "outputs": [
    {
     "data": {
      "text/html": [
       "<div>\n",
       "<style scoped>\n",
       "    .dataframe tbody tr th:only-of-type {\n",
       "        vertical-align: middle;\n",
       "    }\n",
       "\n",
       "    .dataframe tbody tr th {\n",
       "        vertical-align: top;\n",
       "    }\n",
       "\n",
       "    .dataframe thead th {\n",
       "        text-align: right;\n",
       "    }\n",
       "</style>\n",
       "<table border=\"1\" class=\"dataframe\">\n",
       "  <thead>\n",
       "    <tr style=\"text-align: right;\">\n",
       "      <th></th>\n",
       "      <th>tag_id</th>\n",
       "      <th>tag_name</th>\n",
       "    </tr>\n",
       "  </thead>\n",
       "  <tbody>\n",
       "    <tr>\n",
       "      <th>0</th>\n",
       "      <td>0</td>\n",
       "      <td>-</td>\n",
       "    </tr>\n",
       "    <tr>\n",
       "      <th>1</th>\n",
       "      <td>1</td>\n",
       "      <td>--1-</td>\n",
       "    </tr>\n",
       "    <tr>\n",
       "      <th>2</th>\n",
       "      <td>2</td>\n",
       "      <td>--10-</td>\n",
       "    </tr>\n",
       "    <tr>\n",
       "      <th>3</th>\n",
       "      <td>3</td>\n",
       "      <td>--12-</td>\n",
       "    </tr>\n",
       "    <tr>\n",
       "      <th>4</th>\n",
       "      <td>4</td>\n",
       "      <td>--122-</td>\n",
       "    </tr>\n",
       "  </tbody>\n",
       "</table>\n",
       "</div>"
      ],
      "text/plain": [
       "   tag_id tag_name\n",
       "0       0        -\n",
       "1       1     --1-\n",
       "2       2    --10-\n",
       "3       3    --12-\n",
       "4       4   --122-"
      ]
     },
     "execution_count": 6,
     "metadata": {},
     "output_type": "execute_result"
    }
   ],
   "source": [
    "t.head()"
   ]
  },
  {
   "cell_type": "code",
   "execution_count": 7,
   "metadata": {},
   "outputs": [
    {
     "data": {
      "text/plain": [
       "34252"
      ]
     },
     "execution_count": 7,
     "metadata": {},
     "output_type": "execute_result"
    }
   ],
   "source": [
    "len(t)"
   ]
  },
  {
   "cell_type": "code",
   "execution_count": 8,
   "metadata": {},
   "outputs": [
    {
     "data": {
      "text/html": [
       "<div>\n",
       "<style scoped>\n",
       "    .dataframe tbody tr th:only-of-type {\n",
       "        vertical-align: middle;\n",
       "    }\n",
       "\n",
       "    .dataframe tbody tr th {\n",
       "        vertical-align: top;\n",
       "    }\n",
       "\n",
       "    .dataframe thead th {\n",
       "        text-align: right;\n",
       "    }\n",
       "</style>\n",
       "<table border=\"1\" class=\"dataframe\">\n",
       "  <thead>\n",
       "    <tr style=\"text-align: right;\">\n",
       "      <th></th>\n",
       "      <th>goodreads_book_id</th>\n",
       "      <th>tag_id</th>\n",
       "      <th>count</th>\n",
       "    </tr>\n",
       "  </thead>\n",
       "  <tbody>\n",
       "    <tr>\n",
       "      <th>0</th>\n",
       "      <td>1</td>\n",
       "      <td>30574</td>\n",
       "      <td>167697</td>\n",
       "    </tr>\n",
       "    <tr>\n",
       "      <th>1</th>\n",
       "      <td>1</td>\n",
       "      <td>11305</td>\n",
       "      <td>37174</td>\n",
       "    </tr>\n",
       "    <tr>\n",
       "      <th>2</th>\n",
       "      <td>1</td>\n",
       "      <td>11557</td>\n",
       "      <td>34173</td>\n",
       "    </tr>\n",
       "    <tr>\n",
       "      <th>3</th>\n",
       "      <td>1</td>\n",
       "      <td>8717</td>\n",
       "      <td>12986</td>\n",
       "    </tr>\n",
       "    <tr>\n",
       "      <th>4</th>\n",
       "      <td>1</td>\n",
       "      <td>33114</td>\n",
       "      <td>12716</td>\n",
       "    </tr>\n",
       "  </tbody>\n",
       "</table>\n",
       "</div>"
      ],
      "text/plain": [
       "   goodreads_book_id  tag_id   count\n",
       "0                  1   30574  167697\n",
       "1                  1   11305   37174\n",
       "2                  1   11557   34173\n",
       "3                  1    8717   12986\n",
       "4                  1   33114   12716"
      ]
     },
     "execution_count": 8,
     "metadata": {},
     "output_type": "execute_result"
    }
   ],
   "source": [
    "bt.head()"
   ]
  },
  {
   "cell_type": "markdown",
   "metadata": {},
   "source": [
    "Tag applications are sorted by goodreads_book_id ASC and by count DESC."
   ]
  },
  {
   "cell_type": "code",
   "execution_count": 9,
   "metadata": {},
   "outputs": [
    {
     "data": {
      "text/plain": [
       "999912"
      ]
     },
     "execution_count": 9,
     "metadata": {},
     "output_type": "execute_result"
    }
   ],
   "source": [
    "len(bt)"
   ]
  },
  {
   "cell_type": "markdown",
   "metadata": {},
   "source": [
    "# Merge Datasets"
   ]
  },
  {
   "cell_type": "code",
   "execution_count": 10,
   "metadata": {},
   "outputs": [],
   "source": [
    "bt = bt.merge(t, on = 'tag_id')"
   ]
  },
  {
   "cell_type": "code",
   "execution_count": 11,
   "metadata": {},
   "outputs": [
    {
     "data": {
      "text/html": [
       "<div>\n",
       "<style scoped>\n",
       "    .dataframe tbody tr th:only-of-type {\n",
       "        vertical-align: middle;\n",
       "    }\n",
       "\n",
       "    .dataframe tbody tr th {\n",
       "        vertical-align: top;\n",
       "    }\n",
       "\n",
       "    .dataframe thead th {\n",
       "        text-align: right;\n",
       "    }\n",
       "</style>\n",
       "<table border=\"1\" class=\"dataframe\">\n",
       "  <thead>\n",
       "    <tr style=\"text-align: right;\">\n",
       "      <th></th>\n",
       "      <th>goodreads_book_id</th>\n",
       "      <th>tag_id</th>\n",
       "      <th>count</th>\n",
       "      <th>tag_name</th>\n",
       "    </tr>\n",
       "  </thead>\n",
       "  <tbody>\n",
       "    <tr>\n",
       "      <th>0</th>\n",
       "      <td>1</td>\n",
       "      <td>30574</td>\n",
       "      <td>167697</td>\n",
       "      <td>to-read</td>\n",
       "    </tr>\n",
       "    <tr>\n",
       "      <th>1</th>\n",
       "      <td>2</td>\n",
       "      <td>30574</td>\n",
       "      <td>24549</td>\n",
       "      <td>to-read</td>\n",
       "    </tr>\n",
       "    <tr>\n",
       "      <th>2</th>\n",
       "      <td>3</td>\n",
       "      <td>30574</td>\n",
       "      <td>496107</td>\n",
       "      <td>to-read</td>\n",
       "    </tr>\n",
       "    <tr>\n",
       "      <th>3</th>\n",
       "      <td>5</td>\n",
       "      <td>30574</td>\n",
       "      <td>11909</td>\n",
       "      <td>to-read</td>\n",
       "    </tr>\n",
       "    <tr>\n",
       "      <th>4</th>\n",
       "      <td>6</td>\n",
       "      <td>30574</td>\n",
       "      <td>298</td>\n",
       "      <td>to-read</td>\n",
       "    </tr>\n",
       "  </tbody>\n",
       "</table>\n",
       "</div>"
      ],
      "text/plain": [
       "   goodreads_book_id  tag_id   count tag_name\n",
       "0                  1   30574  167697  to-read\n",
       "1                  2   30574   24549  to-read\n",
       "2                  3   30574  496107  to-read\n",
       "3                  5   30574   11909  to-read\n",
       "4                  6   30574     298  to-read"
      ]
     },
     "execution_count": 11,
     "metadata": {},
     "output_type": "execute_result"
    }
   ],
   "source": [
    "bt.head()"
   ]
  },
  {
   "cell_type": "markdown",
   "metadata": {},
   "source": [
    "Why don't we merge book titles for good measure."
   ]
  },
  {
   "cell_type": "code",
   "execution_count": 12,
   "metadata": {},
   "outputs": [],
   "source": [
    "bt = bt.merge(b[['goodreads_book_id', 'title', 'average_rating']], on='goodreads_book_id')"
   ]
  },
  {
   "cell_type": "code",
   "execution_count": 13,
   "metadata": {},
   "outputs": [
    {
     "data": {
      "text/html": [
       "<div>\n",
       "<style scoped>\n",
       "    .dataframe tbody tr th:only-of-type {\n",
       "        vertical-align: middle;\n",
       "    }\n",
       "\n",
       "    .dataframe tbody tr th {\n",
       "        vertical-align: top;\n",
       "    }\n",
       "\n",
       "    .dataframe thead th {\n",
       "        text-align: right;\n",
       "    }\n",
       "</style>\n",
       "<table border=\"1\" class=\"dataframe\">\n",
       "  <thead>\n",
       "    <tr style=\"text-align: right;\">\n",
       "      <th></th>\n",
       "      <th>goodreads_book_id</th>\n",
       "      <th>tag_id</th>\n",
       "      <th>count</th>\n",
       "      <th>tag_name</th>\n",
       "      <th>title</th>\n",
       "      <th>average_rating</th>\n",
       "    </tr>\n",
       "  </thead>\n",
       "  <tbody>\n",
       "    <tr>\n",
       "      <th>0</th>\n",
       "      <td>1</td>\n",
       "      <td>30574</td>\n",
       "      <td>167697</td>\n",
       "      <td>to-read</td>\n",
       "      <td>Harry Potter and the Half-Blood Prince (Harry ...</td>\n",
       "      <td>4.54</td>\n",
       "    </tr>\n",
       "    <tr>\n",
       "      <th>1</th>\n",
       "      <td>1</td>\n",
       "      <td>11305</td>\n",
       "      <td>37174</td>\n",
       "      <td>fantasy</td>\n",
       "      <td>Harry Potter and the Half-Blood Prince (Harry ...</td>\n",
       "      <td>4.54</td>\n",
       "    </tr>\n",
       "    <tr>\n",
       "      <th>2</th>\n",
       "      <td>1</td>\n",
       "      <td>11557</td>\n",
       "      <td>34173</td>\n",
       "      <td>favorites</td>\n",
       "      <td>Harry Potter and the Half-Blood Prince (Harry ...</td>\n",
       "      <td>4.54</td>\n",
       "    </tr>\n",
       "    <tr>\n",
       "      <th>3</th>\n",
       "      <td>1</td>\n",
       "      <td>8717</td>\n",
       "      <td>12986</td>\n",
       "      <td>currently-reading</td>\n",
       "      <td>Harry Potter and the Half-Blood Prince (Harry ...</td>\n",
       "      <td>4.54</td>\n",
       "    </tr>\n",
       "    <tr>\n",
       "      <th>4</th>\n",
       "      <td>1</td>\n",
       "      <td>33114</td>\n",
       "      <td>12716</td>\n",
       "      <td>young-adult</td>\n",
       "      <td>Harry Potter and the Half-Blood Prince (Harry ...</td>\n",
       "      <td>4.54</td>\n",
       "    </tr>\n",
       "  </tbody>\n",
       "</table>\n",
       "</div>"
      ],
      "text/plain": [
       "   goodreads_book_id  tag_id   count           tag_name  \\\n",
       "0                  1   30574  167697            to-read   \n",
       "1                  1   11305   37174            fantasy   \n",
       "2                  1   11557   34173          favorites   \n",
       "3                  1    8717   12986  currently-reading   \n",
       "4                  1   33114   12716        young-adult   \n",
       "\n",
       "                                               title  average_rating  \n",
       "0  Harry Potter and the Half-Blood Prince (Harry ...            4.54  \n",
       "1  Harry Potter and the Half-Blood Prince (Harry ...            4.54  \n",
       "2  Harry Potter and the Half-Blood Prince (Harry ...            4.54  \n",
       "3  Harry Potter and the Half-Blood Prince (Harry ...            4.54  \n",
       "4  Harry Potter and the Half-Blood Prince (Harry ...            4.54  "
      ]
     },
     "execution_count": 13,
     "metadata": {},
     "output_type": "execute_result"
    }
   ],
   "source": [
    "bt.head()"
   ]
  },
  {
   "cell_type": "markdown",
   "metadata": {},
   "source": [
    "# EDA"
   ]
  },
  {
   "cell_type": "markdown",
   "metadata": {},
   "source": [
    "It appears that there are some negative tag counts. Let's fix this."
   ]
  },
  {
   "cell_type": "code",
   "execution_count": 14,
   "metadata": {},
   "outputs": [
    {
     "data": {
      "text/plain": [
       "count    999912.000000\n",
       "mean        208.869633\n",
       "std        3501.265173\n",
       "min          -1.000000\n",
       "25%           7.000000\n",
       "50%          15.000000\n",
       "75%          40.000000\n",
       "max      596234.000000\n",
       "Name: count, dtype: float64"
      ]
     },
     "execution_count": 14,
     "metadata": {},
     "output_type": "execute_result"
    }
   ],
   "source": [
    "bt['count'].describe()"
   ]
  },
  {
   "cell_type": "code",
   "execution_count": 15,
   "metadata": {},
   "outputs": [],
   "source": [
    "bt.loc[ bt['count'] < 0, 'count'] = 0"
   ]
  },
  {
   "cell_type": "markdown",
   "metadata": {},
   "source": [
    "Sample some popular book tags."
   ]
  },
  {
   "cell_type": "code",
   "execution_count": 16,
   "metadata": {},
   "outputs": [
    {
     "data": {
      "text/html": [
       "<div>\n",
       "<style scoped>\n",
       "    .dataframe tbody tr th:only-of-type {\n",
       "        vertical-align: middle;\n",
       "    }\n",
       "\n",
       "    .dataframe tbody tr th {\n",
       "        vertical-align: top;\n",
       "    }\n",
       "\n",
       "    .dataframe thead th {\n",
       "        text-align: right;\n",
       "    }\n",
       "</style>\n",
       "<table border=\"1\" class=\"dataframe\">\n",
       "  <thead>\n",
       "    <tr style=\"text-align: right;\">\n",
       "      <th></th>\n",
       "      <th>goodreads_book_id</th>\n",
       "      <th>tag_id</th>\n",
       "      <th>count</th>\n",
       "      <th>tag_name</th>\n",
       "      <th>title</th>\n",
       "      <th>average_rating</th>\n",
       "    </tr>\n",
       "  </thead>\n",
       "  <tbody>\n",
       "    <tr>\n",
       "      <th>791594</th>\n",
       "      <td>11600163</td>\n",
       "      <td>30574</td>\n",
       "      <td>2958</td>\n",
       "      <td>to-read</td>\n",
       "      <td>The Litigators</td>\n",
       "      <td>3.77</td>\n",
       "    </tr>\n",
       "    <tr>\n",
       "      <th>741894</th>\n",
       "      <td>8709524</td>\n",
       "      <td>30574</td>\n",
       "      <td>33165</td>\n",
       "      <td>to-read</td>\n",
       "      <td>Silver Shadows (Bloodlines, #5)</td>\n",
       "      <td>4.37</td>\n",
       "    </tr>\n",
       "    <tr>\n",
       "      <th>787294</th>\n",
       "      <td>11366397</td>\n",
       "      <td>30574</td>\n",
       "      <td>63073</td>\n",
       "      <td>to-read</td>\n",
       "      <td>The Program (The Program, #1)</td>\n",
       "      <td>4.07</td>\n",
       "    </tr>\n",
       "    <tr>\n",
       "      <th>652489</th>\n",
       "      <td>5776788</td>\n",
       "      <td>2725</td>\n",
       "      <td>9</td>\n",
       "      <td>antihero</td>\n",
       "      <td>Sandman Slim (Sandman Slim, #1)</td>\n",
       "      <td>3.93</td>\n",
       "    </tr>\n",
       "    <tr>\n",
       "      <th>864094</th>\n",
       "      <td>16053316</td>\n",
       "      <td>30574</td>\n",
       "      <td>15967</td>\n",
       "      <td>to-read</td>\n",
       "      <td>Wethering the Storm (The Storm, #2)</td>\n",
       "      <td>4.33</td>\n",
       "    </tr>\n",
       "    <tr>\n",
       "      <th>30700</th>\n",
       "      <td>4069</td>\n",
       "      <td>30574</td>\n",
       "      <td>198532</td>\n",
       "      <td>to-read</td>\n",
       "      <td>Man's Search for Meaning</td>\n",
       "      <td>4.33</td>\n",
       "    </tr>\n",
       "    <tr>\n",
       "      <th>976272</th>\n",
       "      <td>25241477</td>\n",
       "      <td>14821</td>\n",
       "      <td>89</td>\n",
       "      <td>horror</td>\n",
       "      <td>Ashley Bell</td>\n",
       "      <td>3.59</td>\n",
       "    </tr>\n",
       "    <tr>\n",
       "      <th>114200</th>\n",
       "      <td>13836</td>\n",
       "      <td>30574</td>\n",
       "      <td>19059</td>\n",
       "      <td>to-read</td>\n",
       "      <td>Wild Magic (Immortals, #1)</td>\n",
       "      <td>4.32</td>\n",
       "    </tr>\n",
       "    <tr>\n",
       "      <th>172500</th>\n",
       "      <td>25100</td>\n",
       "      <td>30574</td>\n",
       "      <td>29375</td>\n",
       "      <td>to-read</td>\n",
       "      <td>Dream Country (The Sandman #3)</td>\n",
       "      <td>4.28</td>\n",
       "    </tr>\n",
       "    <tr>\n",
       "      <th>26500</th>\n",
       "      <td>3685</td>\n",
       "      <td>30574</td>\n",
       "      <td>42465</td>\n",
       "      <td>to-read</td>\n",
       "      <td>Black Beauty</td>\n",
       "      <td>3.94</td>\n",
       "    </tr>\n",
       "  </tbody>\n",
       "</table>\n",
       "</div>"
      ],
      "text/plain": [
       "        goodreads_book_id  tag_id   count  tag_name  \\\n",
       "791594           11600163   30574    2958   to-read   \n",
       "741894            8709524   30574   33165   to-read   \n",
       "787294           11366397   30574   63073   to-read   \n",
       "652489            5776788    2725       9  antihero   \n",
       "864094           16053316   30574   15967   to-read   \n",
       "30700                4069   30574  198532   to-read   \n",
       "976272           25241477   14821      89    horror   \n",
       "114200              13836   30574   19059   to-read   \n",
       "172500              25100   30574   29375   to-read   \n",
       "26500                3685   30574   42465   to-read   \n",
       "\n",
       "                                      title  average_rating  \n",
       "791594                       The Litigators            3.77  \n",
       "741894      Silver Shadows (Bloodlines, #5)            4.37  \n",
       "787294        The Program (The Program, #1)            4.07  \n",
       "652489      Sandman Slim (Sandman Slim, #1)            3.93  \n",
       "864094  Wethering the Storm (The Storm, #2)            4.33  \n",
       "30700              Man's Search for Meaning            4.33  \n",
       "976272                          Ashley Bell            3.59  \n",
       "114200           Wild Magic (Immortals, #1)            4.32  \n",
       "172500       Dream Country (The Sandman #3)            4.28  \n",
       "26500                          Black Beauty            3.94  "
      ]
     },
     "execution_count": 16,
     "metadata": {},
     "output_type": "execute_result"
    }
   ],
   "source": [
    "bt.sample(10, weights = 'count')"
   ]
  },
  {
   "cell_type": "markdown",
   "metadata": {},
   "source": [
    "These are the most popular tags:"
   ]
  },
  {
   "cell_type": "code",
   "execution_count": 17,
   "metadata": {},
   "outputs": [
    {
     "data": {
      "text/plain": [
       "tag_name\n",
       "to-read              9983\n",
       "favorites            9881\n",
       "owned                9858\n",
       "books-i-own          9799\n",
       "currently-reading    9776\n",
       "library              9415\n",
       "owned-books          9221\n",
       "fiction              9097\n",
       "to-buy               8692\n",
       "kindle               8316\n",
       "default              8239\n",
       "ebook                8054\n",
       "my-books             7561\n",
       "audiobook            7242\n",
       "ebooks               7203\n",
       "wish-list            7192\n",
       "my-library           7000\n",
       "audiobooks           6862\n",
       "i-own                6670\n",
       "adult                6604\n",
       "audio                6548\n",
       "favourites           6422\n",
       "novels               5665\n",
       "own-it               5514\n",
       "contemporary         5287\n",
       "read-in-2015         5239\n",
       "series               5080\n",
       "e-book               4941\n",
       "read-in-2016         4940\n",
       "read-in-2014         4902\n",
       "books                4818\n",
       "adult-fiction        4775\n",
       "e-books              4616\n",
       "read-in-2013         4384\n",
       "book-club            4365\n",
       "audible              4346\n",
       "fantasy              4259\n",
       "romance              4251\n",
       "audio-books          4220\n",
       "abandoned            4168\n",
       "novel                4084\n",
       "re-read              3903\n",
       "have                 3846\n",
       "audio-book           3776\n",
       "mystery              3686\n",
       "borrowed             3674\n",
       "adventure            3661\n",
       "read-in-2012         3661\n",
       "young-adult          3630\n",
       "english              3625\n",
       "Name: tag_name, dtype: int64"
      ]
     },
     "execution_count": 17,
     "metadata": {},
     "output_type": "execute_result"
    }
   ],
   "source": [
    "tag_counts = bt.groupby('tag_name').tag_name.count().sort_values(ascending=False)\n",
    "tag_counts.head(50)"
   ]
  },
  {
   "cell_type": "code",
   "execution_count": 18,
   "metadata": {},
   "outputs": [
    {
     "data": {
      "text/plain": [
       "count    10000.000000\n",
       "mean        99.991200\n",
       "std          0.584429\n",
       "min         56.000000\n",
       "25%        100.000000\n",
       "50%        100.000000\n",
       "75%        100.000000\n",
       "max        100.000000\n",
       "Name: tag_id, dtype: float64"
      ]
     },
     "execution_count": 18,
     "metadata": {},
     "output_type": "execute_result"
    }
   ],
   "source": [
    "bt.groupby('goodreads_book_id').tag_id.count().describe()"
   ]
  },
  {
   "cell_type": "code",
   "execution_count": 19,
   "metadata": {},
   "outputs": [],
   "source": [
    "genres  = [\"art\", \"biography\", \"business\", \"children's\", \"classics\", \"comics\", \"contemporary\", \"cookbooks\", \"crime\", \"ebooks\", \"fantasy\", \"fiction\", \"gay and lesbian\", \"graphic novels\", \"historical fiction\", \"history\", \"horror\", \"humor and comedy\", \"manga\", \"memoir\", \"music\", \"ystery\", \"nonfiction\", \"Paranormal\", \"philosophy\", \"poetry\", \"psychology\", \"religion\", \"romance\", \"science\", \"science fiction\", \"self help\", \"suspense\", \"spirituality\", \"sports\", \"thriller\", \"travel\", \"young adult\"]"
   ]
  },
  {
   "cell_type": "code",
   "execution_count": 20,
   "metadata": {},
   "outputs": [],
   "source": [
    "t = t.loc[bt.groupby(\"tag_id\").goodreads_book_id.count() > 2000,[\"tag_id\"]]"
   ]
  },
  {
   "cell_type": "code",
   "execution_count": 21,
   "metadata": {},
   "outputs": [
    {
     "data": {
      "text/html": [
       "<div>\n",
       "<style scoped>\n",
       "    .dataframe tbody tr th:only-of-type {\n",
       "        vertical-align: middle;\n",
       "    }\n",
       "\n",
       "    .dataframe tbody tr th {\n",
       "        vertical-align: top;\n",
       "    }\n",
       "\n",
       "    .dataframe thead th {\n",
       "        text-align: right;\n",
       "    }\n",
       "</style>\n",
       "<table border=\"1\" class=\"dataframe\">\n",
       "  <thead>\n",
       "    <tr style=\"text-align: right;\">\n",
       "      <th></th>\n",
       "      <th>tag_id</th>\n",
       "    </tr>\n",
       "  </thead>\n",
       "  <tbody>\n",
       "    <tr>\n",
       "      <th>1078</th>\n",
       "      <td>1078</td>\n",
       "    </tr>\n",
       "    <tr>\n",
       "      <th>1128</th>\n",
       "      <td>1128</td>\n",
       "    </tr>\n",
       "    <tr>\n",
       "      <th>1416</th>\n",
       "      <td>1416</td>\n",
       "    </tr>\n",
       "    <tr>\n",
       "      <th>1540</th>\n",
       "      <td>1540</td>\n",
       "    </tr>\n",
       "    <tr>\n",
       "      <th>1642</th>\n",
       "      <td>1642</td>\n",
       "    </tr>\n",
       "    <tr>\n",
       "      <th>1659</th>\n",
       "      <td>1659</td>\n",
       "    </tr>\n",
       "    <tr>\n",
       "      <th>1691</th>\n",
       "      <td>1691</td>\n",
       "    </tr>\n",
       "    <tr>\n",
       "      <th>2104</th>\n",
       "      <td>2104</td>\n",
       "    </tr>\n",
       "    <tr>\n",
       "      <th>2277</th>\n",
       "      <td>2277</td>\n",
       "    </tr>\n",
       "    <tr>\n",
       "      <th>3358</th>\n",
       "      <td>3358</td>\n",
       "    </tr>\n",
       "  </tbody>\n",
       "</table>\n",
       "</div>"
      ],
      "text/plain": [
       "      tag_id\n",
       "1078    1078\n",
       "1128    1128\n",
       "1416    1416\n",
       "1540    1540\n",
       "1642    1642\n",
       "1659    1659\n",
       "1691    1691\n",
       "2104    2104\n",
       "2277    2277\n",
       "3358    3358"
      ]
     },
     "execution_count": 21,
     "metadata": {},
     "output_type": "execute_result"
    }
   ],
   "source": [
    "t.head(10)"
   ]
  },
  {
   "cell_type": "code",
   "execution_count": 22,
   "metadata": {},
   "outputs": [],
   "source": [
    "bt_pivot = bt.merge(t, on=\"tag_id\", how=\"inner\")"
   ]
  },
  {
   "cell_type": "code",
   "execution_count": 23,
   "metadata": {},
   "outputs": [
    {
     "data": {
      "text/html": [
       "<div>\n",
       "<style scoped>\n",
       "    .dataframe tbody tr th:only-of-type {\n",
       "        vertical-align: middle;\n",
       "    }\n",
       "\n",
       "    .dataframe tbody tr th {\n",
       "        vertical-align: top;\n",
       "    }\n",
       "\n",
       "    .dataframe thead th {\n",
       "        text-align: right;\n",
       "    }\n",
       "</style>\n",
       "<table border=\"1\" class=\"dataframe\">\n",
       "  <thead>\n",
       "    <tr style=\"text-align: right;\">\n",
       "      <th></th>\n",
       "      <th>goodreads_book_id</th>\n",
       "      <th>tag_id</th>\n",
       "      <th>count</th>\n",
       "      <th>tag_name</th>\n",
       "      <th>title</th>\n",
       "      <th>average_rating</th>\n",
       "    </tr>\n",
       "  </thead>\n",
       "  <tbody>\n",
       "    <tr>\n",
       "      <th>0</th>\n",
       "      <td>1</td>\n",
       "      <td>30574</td>\n",
       "      <td>167697</td>\n",
       "      <td>to-read</td>\n",
       "      <td>Harry Potter and the Half-Blood Prince (Harry ...</td>\n",
       "      <td>4.54</td>\n",
       "    </tr>\n",
       "    <tr>\n",
       "      <th>1</th>\n",
       "      <td>2</td>\n",
       "      <td>30574</td>\n",
       "      <td>24549</td>\n",
       "      <td>to-read</td>\n",
       "      <td>Harry Potter and the Order of the Phoenix (Har...</td>\n",
       "      <td>4.46</td>\n",
       "    </tr>\n",
       "    <tr>\n",
       "      <th>2</th>\n",
       "      <td>3</td>\n",
       "      <td>30574</td>\n",
       "      <td>496107</td>\n",
       "      <td>to-read</td>\n",
       "      <td>Harry Potter and the Sorcerer's Stone (Harry P...</td>\n",
       "      <td>4.44</td>\n",
       "    </tr>\n",
       "    <tr>\n",
       "      <th>3</th>\n",
       "      <td>5</td>\n",
       "      <td>30574</td>\n",
       "      <td>11909</td>\n",
       "      <td>to-read</td>\n",
       "      <td>Harry Potter and the Prisoner of Azkaban (Harr...</td>\n",
       "      <td>4.53</td>\n",
       "    </tr>\n",
       "    <tr>\n",
       "      <th>4</th>\n",
       "      <td>6</td>\n",
       "      <td>30574</td>\n",
       "      <td>298</td>\n",
       "      <td>to-read</td>\n",
       "      <td>Harry Potter and the Goblet of Fire (Harry Pot...</td>\n",
       "      <td>4.53</td>\n",
       "    </tr>\n",
       "    <tr>\n",
       "      <th>5</th>\n",
       "      <td>8</td>\n",
       "      <td>30574</td>\n",
       "      <td>2823</td>\n",
       "      <td>to-read</td>\n",
       "      <td>Harry Potter Boxed Set, Books 1-5 (Harry Potte...</td>\n",
       "      <td>4.77</td>\n",
       "    </tr>\n",
       "    <tr>\n",
       "      <th>6</th>\n",
       "      <td>10</td>\n",
       "      <td>30574</td>\n",
       "      <td>3226</td>\n",
       "      <td>to-read</td>\n",
       "      <td>Harry Potter Collection (Harry Potter, #1-6)</td>\n",
       "      <td>4.73</td>\n",
       "    </tr>\n",
       "    <tr>\n",
       "      <th>7</th>\n",
       "      <td>11</td>\n",
       "      <td>30574</td>\n",
       "      <td>32303</td>\n",
       "      <td>to-read</td>\n",
       "      <td>The Hitchhiker's Guide to the Galaxy (Hitchhik...</td>\n",
       "      <td>4.20</td>\n",
       "    </tr>\n",
       "    <tr>\n",
       "      <th>8</th>\n",
       "      <td>13</td>\n",
       "      <td>30574</td>\n",
       "      <td>75870</td>\n",
       "      <td>to-read</td>\n",
       "      <td>The Ultimate Hitchhiker's Guide to the Galaxy</td>\n",
       "      <td>4.37</td>\n",
       "    </tr>\n",
       "    <tr>\n",
       "      <th>9</th>\n",
       "      <td>21</td>\n",
       "      <td>30574</td>\n",
       "      <td>33603</td>\n",
       "      <td>to-read</td>\n",
       "      <td>A Short History of Nearly Everything</td>\n",
       "      <td>4.19</td>\n",
       "    </tr>\n",
       "  </tbody>\n",
       "</table>\n",
       "</div>"
      ],
      "text/plain": [
       "   goodreads_book_id  tag_id   count tag_name  \\\n",
       "0                  1   30574  167697  to-read   \n",
       "1                  2   30574   24549  to-read   \n",
       "2                  3   30574  496107  to-read   \n",
       "3                  5   30574   11909  to-read   \n",
       "4                  6   30574     298  to-read   \n",
       "5                  8   30574    2823  to-read   \n",
       "6                 10   30574    3226  to-read   \n",
       "7                 11   30574   32303  to-read   \n",
       "8                 13   30574   75870  to-read   \n",
       "9                 21   30574   33603  to-read   \n",
       "\n",
       "                                               title  average_rating  \n",
       "0  Harry Potter and the Half-Blood Prince (Harry ...            4.54  \n",
       "1  Harry Potter and the Order of the Phoenix (Har...            4.46  \n",
       "2  Harry Potter and the Sorcerer's Stone (Harry P...            4.44  \n",
       "3  Harry Potter and the Prisoner of Azkaban (Harr...            4.53  \n",
       "4  Harry Potter and the Goblet of Fire (Harry Pot...            4.53  \n",
       "5  Harry Potter Boxed Set, Books 1-5 (Harry Potte...            4.77  \n",
       "6       Harry Potter Collection (Harry Potter, #1-6)            4.73  \n",
       "7  The Hitchhiker's Guide to the Galaxy (Hitchhik...            4.20  \n",
       "8      The Ultimate Hitchhiker's Guide to the Galaxy            4.37  \n",
       "9               A Short History of Nearly Everything            4.19  "
      ]
     },
     "execution_count": 23,
     "metadata": {},
     "output_type": "execute_result"
    }
   ],
   "source": [
    "bt_pivot.head(10)"
   ]
  },
  {
   "cell_type": "code",
   "execution_count": 24,
   "metadata": {},
   "outputs": [],
   "source": [
    "bt_pivot = bt_pivot.pivot_table('count', ['goodreads_book_id','average_rating'], 'tag_name')"
   ]
  },
  {
   "cell_type": "code",
   "execution_count": 25,
   "metadata": {},
   "outputs": [
    {
     "data": {
      "text/html": [
       "<div>\n",
       "<style scoped>\n",
       "    .dataframe tbody tr th:only-of-type {\n",
       "        vertical-align: middle;\n",
       "    }\n",
       "\n",
       "    .dataframe tbody tr th {\n",
       "        vertical-align: top;\n",
       "    }\n",
       "\n",
       "    .dataframe thead th {\n",
       "        text-align: right;\n",
       "    }\n",
       "</style>\n",
       "<table border=\"1\" class=\"dataframe\">\n",
       "  <thead>\n",
       "    <tr style=\"text-align: right;\">\n",
       "      <th></th>\n",
       "      <th>tag_name</th>\n",
       "      <th>4-stars</th>\n",
       "      <th>5-stars</th>\n",
       "      <th>abandoned</th>\n",
       "      <th>action</th>\n",
       "      <th>adult</th>\n",
       "      <th>adult-fiction</th>\n",
       "      <th>adventure</th>\n",
       "      <th>all-time-favorites</th>\n",
       "      <th>american</th>\n",
       "      <th>audible</th>\n",
       "      <th>...</th>\n",
       "      <th>shelfari-favorites</th>\n",
       "      <th>suspense</th>\n",
       "      <th>thriller</th>\n",
       "      <th>to-buy</th>\n",
       "      <th>to-read</th>\n",
       "      <th>to-read-fiction</th>\n",
       "      <th>unfinished</th>\n",
       "      <th>wish-list</th>\n",
       "      <th>ya</th>\n",
       "      <th>young-adult</th>\n",
       "    </tr>\n",
       "    <tr>\n",
       "      <th>goodreads_book_id</th>\n",
       "      <th>average_rating</th>\n",
       "      <th></th>\n",
       "      <th></th>\n",
       "      <th></th>\n",
       "      <th></th>\n",
       "      <th></th>\n",
       "      <th></th>\n",
       "      <th></th>\n",
       "      <th></th>\n",
       "      <th></th>\n",
       "      <th></th>\n",
       "      <th></th>\n",
       "      <th></th>\n",
       "      <th></th>\n",
       "      <th></th>\n",
       "      <th></th>\n",
       "      <th></th>\n",
       "      <th></th>\n",
       "      <th></th>\n",
       "      <th></th>\n",
       "      <th></th>\n",
       "      <th></th>\n",
       "    </tr>\n",
       "  </thead>\n",
       "  <tbody>\n",
       "    <tr>\n",
       "      <th>1</th>\n",
       "      <th>4.54</th>\n",
       "      <td>NaN</td>\n",
       "      <td>828.0</td>\n",
       "      <td>NaN</td>\n",
       "      <td>NaN</td>\n",
       "      <td>NaN</td>\n",
       "      <td>NaN</td>\n",
       "      <td>1742.0</td>\n",
       "      <td>1022.0</td>\n",
       "      <td>NaN</td>\n",
       "      <td>NaN</td>\n",
       "      <td>...</td>\n",
       "      <td>348.0</td>\n",
       "      <td>NaN</td>\n",
       "      <td>NaN</td>\n",
       "      <td>324.0</td>\n",
       "      <td>167697.0</td>\n",
       "      <td>NaN</td>\n",
       "      <td>NaN</td>\n",
       "      <td>NaN</td>\n",
       "      <td>4364.0</td>\n",
       "      <td>12716.0</td>\n",
       "    </tr>\n",
       "    <tr>\n",
       "      <th>2</th>\n",
       "      <th>4.46</th>\n",
       "      <td>NaN</td>\n",
       "      <td>NaN</td>\n",
       "      <td>NaN</td>\n",
       "      <td>225.0</td>\n",
       "      <td>NaN</td>\n",
       "      <td>NaN</td>\n",
       "      <td>NaN</td>\n",
       "      <td>981.0</td>\n",
       "      <td>NaN</td>\n",
       "      <td>NaN</td>\n",
       "      <td>...</td>\n",
       "      <td>344.0</td>\n",
       "      <td>NaN</td>\n",
       "      <td>NaN</td>\n",
       "      <td>NaN</td>\n",
       "      <td>24549.0</td>\n",
       "      <td>NaN</td>\n",
       "      <td>NaN</td>\n",
       "      <td>NaN</td>\n",
       "      <td>448.0</td>\n",
       "      <td>865.0</td>\n",
       "    </tr>\n",
       "    <tr>\n",
       "      <th>3</th>\n",
       "      <th>4.44</th>\n",
       "      <td>NaN</td>\n",
       "      <td>1049.0</td>\n",
       "      <td>NaN</td>\n",
       "      <td>NaN</td>\n",
       "      <td>NaN</td>\n",
       "      <td>NaN</td>\n",
       "      <td>2430.0</td>\n",
       "      <td>1453.0</td>\n",
       "      <td>NaN</td>\n",
       "      <td>NaN</td>\n",
       "      <td>...</td>\n",
       "      <td>387.0</td>\n",
       "      <td>NaN</td>\n",
       "      <td>NaN</td>\n",
       "      <td>373.0</td>\n",
       "      <td>496107.0</td>\n",
       "      <td>NaN</td>\n",
       "      <td>NaN</td>\n",
       "      <td>NaN</td>\n",
       "      <td>5276.0</td>\n",
       "      <td>14984.0</td>\n",
       "    </tr>\n",
       "    <tr>\n",
       "      <th>5</th>\n",
       "      <th>4.53</th>\n",
       "      <td>NaN</td>\n",
       "      <td>932.0</td>\n",
       "      <td>NaN</td>\n",
       "      <td>NaN</td>\n",
       "      <td>NaN</td>\n",
       "      <td>NaN</td>\n",
       "      <td>1982.0</td>\n",
       "      <td>1177.0</td>\n",
       "      <td>NaN</td>\n",
       "      <td>NaN</td>\n",
       "      <td>...</td>\n",
       "      <td>495.0</td>\n",
       "      <td>NaN</td>\n",
       "      <td>NaN</td>\n",
       "      <td>317.0</td>\n",
       "      <td>11909.0</td>\n",
       "      <td>NaN</td>\n",
       "      <td>NaN</td>\n",
       "      <td>NaN</td>\n",
       "      <td>4298.0</td>\n",
       "      <td>12856.0</td>\n",
       "    </tr>\n",
       "    <tr>\n",
       "      <th>6</th>\n",
       "      <th>4.53</th>\n",
       "      <td>NaN</td>\n",
       "      <td>869.0</td>\n",
       "      <td>NaN</td>\n",
       "      <td>NaN</td>\n",
       "      <td>NaN</td>\n",
       "      <td>NaN</td>\n",
       "      <td>1892.0</td>\n",
       "      <td>1090.0</td>\n",
       "      <td>NaN</td>\n",
       "      <td>NaN</td>\n",
       "      <td>...</td>\n",
       "      <td>456.0</td>\n",
       "      <td>NaN</td>\n",
       "      <td>NaN</td>\n",
       "      <td>322.0</td>\n",
       "      <td>298.0</td>\n",
       "      <td>NaN</td>\n",
       "      <td>NaN</td>\n",
       "      <td>NaN</td>\n",
       "      <td>4383.0</td>\n",
       "      <td>12979.0</td>\n",
       "    </tr>\n",
       "  </tbody>\n",
       "</table>\n",
       "<p>5 rows × 94 columns</p>\n",
       "</div>"
      ],
      "text/plain": [
       "tag_name                          4-stars  5-stars  abandoned  action  adult  \\\n",
       "goodreads_book_id average_rating                                               \n",
       "1                 4.54                NaN    828.0        NaN     NaN    NaN   \n",
       "2                 4.46                NaN      NaN        NaN   225.0    NaN   \n",
       "3                 4.44                NaN   1049.0        NaN     NaN    NaN   \n",
       "5                 4.53                NaN    932.0        NaN     NaN    NaN   \n",
       "6                 4.53                NaN    869.0        NaN     NaN    NaN   \n",
       "\n",
       "tag_name                          adult-fiction  adventure  \\\n",
       "goodreads_book_id average_rating                             \n",
       "1                 4.54                      NaN     1742.0   \n",
       "2                 4.46                      NaN        NaN   \n",
       "3                 4.44                      NaN     2430.0   \n",
       "5                 4.53                      NaN     1982.0   \n",
       "6                 4.53                      NaN     1892.0   \n",
       "\n",
       "tag_name                          all-time-favorites  american  audible  ...  \\\n",
       "goodreads_book_id average_rating                                         ...   \n",
       "1                 4.54                        1022.0       NaN      NaN  ...   \n",
       "2                 4.46                         981.0       NaN      NaN  ...   \n",
       "3                 4.44                        1453.0       NaN      NaN  ...   \n",
       "5                 4.53                        1177.0       NaN      NaN  ...   \n",
       "6                 4.53                        1090.0       NaN      NaN  ...   \n",
       "\n",
       "tag_name                          shelfari-favorites  suspense  thriller  \\\n",
       "goodreads_book_id average_rating                                           \n",
       "1                 4.54                         348.0       NaN       NaN   \n",
       "2                 4.46                         344.0       NaN       NaN   \n",
       "3                 4.44                         387.0       NaN       NaN   \n",
       "5                 4.53                         495.0       NaN       NaN   \n",
       "6                 4.53                         456.0       NaN       NaN   \n",
       "\n",
       "tag_name                          to-buy   to-read  to-read-fiction  \\\n",
       "goodreads_book_id average_rating                                      \n",
       "1                 4.54             324.0  167697.0              NaN   \n",
       "2                 4.46               NaN   24549.0              NaN   \n",
       "3                 4.44             373.0  496107.0              NaN   \n",
       "5                 4.53             317.0   11909.0              NaN   \n",
       "6                 4.53             322.0     298.0              NaN   \n",
       "\n",
       "tag_name                          unfinished  wish-list      ya  young-adult  \n",
       "goodreads_book_id average_rating                                              \n",
       "1                 4.54                   NaN        NaN  4364.0      12716.0  \n",
       "2                 4.46                   NaN        NaN   448.0        865.0  \n",
       "3                 4.44                   NaN        NaN  5276.0      14984.0  \n",
       "5                 4.53                   NaN        NaN  4298.0      12856.0  \n",
       "6                 4.53                   NaN        NaN  4383.0      12979.0  \n",
       "\n",
       "[5 rows x 94 columns]"
      ]
     },
     "execution_count": 25,
     "metadata": {},
     "output_type": "execute_result"
    }
   ],
   "source": [
    "bt_pivot.head()"
   ]
  },
  {
   "cell_type": "code",
   "execution_count": 26,
   "metadata": {},
   "outputs": [],
   "source": [
    "bt_pivot[bt_pivot > 0] = True"
   ]
  },
  {
   "cell_type": "code",
   "execution_count": 27,
   "metadata": {},
   "outputs": [],
   "source": [
    "bt_pivot.fillna(False, inplace=True)"
   ]
  },
  {
   "cell_type": "code",
   "execution_count": 28,
   "metadata": {},
   "outputs": [
    {
     "data": {
      "text/plain": [
       "10000"
      ]
     },
     "execution_count": 28,
     "metadata": {},
     "output_type": "execute_result"
    }
   ],
   "source": [
    "len(bt_pivot)"
   ]
  },
  {
   "cell_type": "code",
   "execution_count": 29,
   "metadata": {},
   "outputs": [],
   "source": [
    "bt_pivot.reset_index(\"average_rating\", inplace=True)"
   ]
  },
  {
   "cell_type": "code",
   "execution_count": 30,
   "metadata": {},
   "outputs": [
    {
     "data": {
      "text/html": [
       "<div>\n",
       "<style scoped>\n",
       "    .dataframe tbody tr th:only-of-type {\n",
       "        vertical-align: middle;\n",
       "    }\n",
       "\n",
       "    .dataframe tbody tr th {\n",
       "        vertical-align: top;\n",
       "    }\n",
       "\n",
       "    .dataframe thead th {\n",
       "        text-align: right;\n",
       "    }\n",
       "</style>\n",
       "<table border=\"1\" class=\"dataframe\">\n",
       "  <thead>\n",
       "    <tr style=\"text-align: right;\">\n",
       "      <th>tag_name</th>\n",
       "      <th>average_rating</th>\n",
       "      <th>4-stars</th>\n",
       "      <th>5-stars</th>\n",
       "      <th>abandoned</th>\n",
       "      <th>action</th>\n",
       "      <th>adult</th>\n",
       "      <th>adult-fiction</th>\n",
       "      <th>adventure</th>\n",
       "      <th>all-time-favorites</th>\n",
       "      <th>american</th>\n",
       "      <th>...</th>\n",
       "      <th>shelfari-favorites</th>\n",
       "      <th>suspense</th>\n",
       "      <th>thriller</th>\n",
       "      <th>to-buy</th>\n",
       "      <th>to-read</th>\n",
       "      <th>to-read-fiction</th>\n",
       "      <th>unfinished</th>\n",
       "      <th>wish-list</th>\n",
       "      <th>ya</th>\n",
       "      <th>young-adult</th>\n",
       "    </tr>\n",
       "    <tr>\n",
       "      <th>goodreads_book_id</th>\n",
       "      <th></th>\n",
       "      <th></th>\n",
       "      <th></th>\n",
       "      <th></th>\n",
       "      <th></th>\n",
       "      <th></th>\n",
       "      <th></th>\n",
       "      <th></th>\n",
       "      <th></th>\n",
       "      <th></th>\n",
       "      <th></th>\n",
       "      <th></th>\n",
       "      <th></th>\n",
       "      <th></th>\n",
       "      <th></th>\n",
       "      <th></th>\n",
       "      <th></th>\n",
       "      <th></th>\n",
       "      <th></th>\n",
       "      <th></th>\n",
       "      <th></th>\n",
       "    </tr>\n",
       "  </thead>\n",
       "  <tbody>\n",
       "    <tr>\n",
       "      <th>1</th>\n",
       "      <td>4.54</td>\n",
       "      <td>False</td>\n",
       "      <td>True</td>\n",
       "      <td>False</td>\n",
       "      <td>False</td>\n",
       "      <td>False</td>\n",
       "      <td>False</td>\n",
       "      <td>True</td>\n",
       "      <td>True</td>\n",
       "      <td>False</td>\n",
       "      <td>...</td>\n",
       "      <td>True</td>\n",
       "      <td>False</td>\n",
       "      <td>False</td>\n",
       "      <td>True</td>\n",
       "      <td>True</td>\n",
       "      <td>False</td>\n",
       "      <td>False</td>\n",
       "      <td>False</td>\n",
       "      <td>True</td>\n",
       "      <td>True</td>\n",
       "    </tr>\n",
       "    <tr>\n",
       "      <th>2</th>\n",
       "      <td>4.46</td>\n",
       "      <td>False</td>\n",
       "      <td>False</td>\n",
       "      <td>False</td>\n",
       "      <td>True</td>\n",
       "      <td>False</td>\n",
       "      <td>False</td>\n",
       "      <td>False</td>\n",
       "      <td>True</td>\n",
       "      <td>False</td>\n",
       "      <td>...</td>\n",
       "      <td>True</td>\n",
       "      <td>False</td>\n",
       "      <td>False</td>\n",
       "      <td>False</td>\n",
       "      <td>True</td>\n",
       "      <td>False</td>\n",
       "      <td>False</td>\n",
       "      <td>False</td>\n",
       "      <td>True</td>\n",
       "      <td>True</td>\n",
       "    </tr>\n",
       "    <tr>\n",
       "      <th>3</th>\n",
       "      <td>4.44</td>\n",
       "      <td>False</td>\n",
       "      <td>True</td>\n",
       "      <td>False</td>\n",
       "      <td>False</td>\n",
       "      <td>False</td>\n",
       "      <td>False</td>\n",
       "      <td>True</td>\n",
       "      <td>True</td>\n",
       "      <td>False</td>\n",
       "      <td>...</td>\n",
       "      <td>True</td>\n",
       "      <td>False</td>\n",
       "      <td>False</td>\n",
       "      <td>True</td>\n",
       "      <td>True</td>\n",
       "      <td>False</td>\n",
       "      <td>False</td>\n",
       "      <td>False</td>\n",
       "      <td>True</td>\n",
       "      <td>True</td>\n",
       "    </tr>\n",
       "    <tr>\n",
       "      <th>5</th>\n",
       "      <td>4.53</td>\n",
       "      <td>False</td>\n",
       "      <td>True</td>\n",
       "      <td>False</td>\n",
       "      <td>False</td>\n",
       "      <td>False</td>\n",
       "      <td>False</td>\n",
       "      <td>True</td>\n",
       "      <td>True</td>\n",
       "      <td>False</td>\n",
       "      <td>...</td>\n",
       "      <td>True</td>\n",
       "      <td>False</td>\n",
       "      <td>False</td>\n",
       "      <td>True</td>\n",
       "      <td>True</td>\n",
       "      <td>False</td>\n",
       "      <td>False</td>\n",
       "      <td>False</td>\n",
       "      <td>True</td>\n",
       "      <td>True</td>\n",
       "    </tr>\n",
       "    <tr>\n",
       "      <th>6</th>\n",
       "      <td>4.53</td>\n",
       "      <td>False</td>\n",
       "      <td>True</td>\n",
       "      <td>False</td>\n",
       "      <td>False</td>\n",
       "      <td>False</td>\n",
       "      <td>False</td>\n",
       "      <td>True</td>\n",
       "      <td>True</td>\n",
       "      <td>False</td>\n",
       "      <td>...</td>\n",
       "      <td>True</td>\n",
       "      <td>False</td>\n",
       "      <td>False</td>\n",
       "      <td>True</td>\n",
       "      <td>True</td>\n",
       "      <td>False</td>\n",
       "      <td>False</td>\n",
       "      <td>False</td>\n",
       "      <td>True</td>\n",
       "      <td>True</td>\n",
       "    </tr>\n",
       "  </tbody>\n",
       "</table>\n",
       "<p>5 rows × 95 columns</p>\n",
       "</div>"
      ],
      "text/plain": [
       "tag_name           average_rating  4-stars  5-stars  abandoned  action  adult  \\\n",
       "goodreads_book_id                                                               \n",
       "1                            4.54    False     True      False   False  False   \n",
       "2                            4.46    False    False      False    True  False   \n",
       "3                            4.44    False     True      False   False  False   \n",
       "5                            4.53    False     True      False   False  False   \n",
       "6                            4.53    False     True      False   False  False   \n",
       "\n",
       "tag_name           adult-fiction  adventure  all-time-favorites  american  \\\n",
       "goodreads_book_id                                                           \n",
       "1                          False       True                True     False   \n",
       "2                          False      False                True     False   \n",
       "3                          False       True                True     False   \n",
       "5                          False       True                True     False   \n",
       "6                          False       True                True     False   \n",
       "\n",
       "tag_name           ...  shelfari-favorites  suspense  thriller  to-buy  \\\n",
       "goodreads_book_id  ...                                                   \n",
       "1                  ...                True     False     False    True   \n",
       "2                  ...                True     False     False   False   \n",
       "3                  ...                True     False     False    True   \n",
       "5                  ...                True     False     False    True   \n",
       "6                  ...                True     False     False    True   \n",
       "\n",
       "tag_name           to-read  to-read-fiction  unfinished  wish-list    ya  \\\n",
       "goodreads_book_id                                                          \n",
       "1                     True            False       False      False  True   \n",
       "2                     True            False       False      False  True   \n",
       "3                     True            False       False      False  True   \n",
       "5                     True            False       False      False  True   \n",
       "6                     True            False       False      False  True   \n",
       "\n",
       "tag_name           young-adult  \n",
       "goodreads_book_id               \n",
       "1                         True  \n",
       "2                         True  \n",
       "3                         True  \n",
       "5                         True  \n",
       "6                         True  \n",
       "\n",
       "[5 rows x 95 columns]"
      ]
     },
     "execution_count": 30,
     "metadata": {},
     "output_type": "execute_result"
    }
   ],
   "source": [
    "bt_pivot.head()"
   ]
  },
  {
   "cell_type": "markdown",
   "metadata": {},
   "source": [
    "# Column Pre-Processing"
   ]
  },
  {
   "cell_type": "code",
   "execution_count": 31,
   "metadata": {},
   "outputs": [],
   "source": [
    "bt_pivot[\"intentions\"] = bt_pivot[\"to-buy\"] | bt_pivot[\"wish-list\"]\n"
   ]
  },
  {
   "cell_type": "code",
   "execution_count": 32,
   "metadata": {},
   "outputs": [],
   "source": [
    "bt_pivot[\"audiobook\"] = bt_pivot[\"audible\"] | bt_pivot[\"audio\"] | bt_pivot[\"audio-book\"] | bt_pivot[\"audio-books\"] | bt_pivot[\"audiobook\"] | bt_pivot[\"audiobooks\"]\n"
   ]
  },
  {
   "cell_type": "code",
   "execution_count": 33,
   "metadata": {},
   "outputs": [],
   "source": [
    "bt_pivot[\"read-in\"] = bt_pivot[\"audible\"] | bt_pivot[\"audio\"] | bt_pivot[\"read-2013\"] | bt_pivot[\"read-2014\"] | bt_pivot[\"read-2015\"] | bt_pivot[\"read-2016\"] | bt_pivot[\"read-in-2011\"] | bt_pivot[\"read-in-2012\"] | bt_pivot[\"read-in-2013\"] | bt_pivot[\"read-in-2014\"] | bt_pivot[\"read-in-2015\"] | bt_pivot[\"read-in-2016\"] | bt_pivot[\"read-in-2017\"]\n"
   ]
  },
  {
   "cell_type": "code",
   "execution_count": 34,
   "metadata": {},
   "outputs": [],
   "source": [
    "bt_pivot[\"did-not-finish\"] = bt_pivot[\"did-not-finish\"] | bt_pivot[\"dnf\"] | bt_pivot[\"didn-t-finish\"] | bt_pivot[\"abandoned\"]\n"
   ]
  },
  {
   "cell_type": "code",
   "execution_count": 35,
   "metadata": {},
   "outputs": [],
   "source": [
    "bt_pivot[\"owned\"] =  bt_pivot[\"own-it\"] | bt_pivot[\"owned\"] | bt_pivot[\"owned-books\"] | bt_pivot[\"books-i-own\"] | bt_pivot[\"have\"] | bt_pivot[\"my-books\"] | bt_pivot[\"i-own\"]"
   ]
  },
  {
   "cell_type": "code",
   "execution_count": 36,
   "metadata": {},
   "outputs": [],
   "source": [
    "#bt_pivot[\"e-books\"] = bt_pivot[\"ebook\"] | bt_pivot[\"ebooks\"] | bt_pivot[\"e-book\"] | bt_pivot[\"e-books\"]"
   ]
  },
  {
   "cell_type": "code",
   "execution_count": 37,
   "metadata": {},
   "outputs": [],
   "source": [
    "bt_pivot[\"favorites\"] =  bt_pivot[\"favorite\"] | bt_pivot[\"favorites\"] | bt_pivot[\"favourites\"] | bt_pivot[\"favorite-books\"]\n"
   ]
  },
  {
   "cell_type": "code",
   "execution_count": 38,
   "metadata": {},
   "outputs": [],
   "source": [
    "bt_pivot[\"sci-fi\"] = bt_pivot[\"sci-fi\"] | bt_pivot[\"sci-fi-fantasy\"] | bt_pivot[\"science-fiction\"]"
   ]
  },
  {
   "cell_type": "code",
   "execution_count": 39,
   "metadata": {},
   "outputs": [],
   "source": [
    "bt_pivot[\"adult\"] = bt_pivot[\"adult\"] | bt_pivot[\"adult-fiction\"]"
   ]
  },
  {
   "cell_type": "code",
   "execution_count": 40,
   "metadata": {},
   "outputs": [],
   "source": [
    "bt_pivot[\"thriller\"] = bt_pivot[\"crime\"] | bt_pivot[\"thriller\"] | bt_pivot[\"suspense\"]"
   ]
  },
  {
   "cell_type": "code",
   "execution_count": 41,
   "metadata": {},
   "outputs": [],
   "source": [
    "bt_pivot[\"young-adult\"] = bt_pivot[\"ya\"] | bt_pivot[\"young-adult\"]"
   ]
  },
  {
   "cell_type": "code",
   "execution_count": 42,
   "metadata": {},
   "outputs": [],
   "source": [
    "bt_pivot[\"history\"] = bt_pivot[\"historical\"] | bt_pivot[\"historical-fiction\"] | bt_pivot[\"history\"]"
   ]
  },
  {
   "cell_type": "code",
   "execution_count": 43,
   "metadata": {},
   "outputs": [],
   "source": [
    "bt_pivot[\"novel\"] = bt_pivot[\"novel\"] | bt_pivot[\"novels\"]"
   ]
  },
  {
   "cell_type": "code",
   "execution_count": 44,
   "metadata": {},
   "outputs": [],
   "source": [
    "bt_pivot[\"contemporary\"] = bt_pivot[\"contemporary\"] | bt_pivot[\"contemporary-fiction\"]"
   ]
  },
  {
   "cell_type": "code",
   "execution_count": 45,
   "metadata": {},
   "outputs": [
    {
     "data": {
      "text/plain": [
       "goodreads_book_id\n",
       "1     4.54\n",
       "2     4.46\n",
       "3     4.44\n",
       "5     4.53\n",
       "6     4.53\n",
       "8     4.77\n",
       "10    4.73\n",
       "11    4.20\n",
       "13    4.37\n",
       "21    4.19\n",
       "Name: average_rating, dtype: float64"
      ]
     },
     "execution_count": 45,
     "metadata": {},
     "output_type": "execute_result"
    }
   ],
   "source": [
    "bt_pivot[\"average_rating\"].head(10)"
   ]
  },
  {
   "cell_type": "markdown",
   "metadata": {},
   "source": [
    "# Create Bins"
   ]
  },
  {
   "cell_type": "code",
   "execution_count": 46,
   "metadata": {},
   "outputs": [
    {
     "data": {
      "text/plain": [
       "<AxesSubplot:>"
      ]
     },
     "execution_count": 46,
     "metadata": {},
     "output_type": "execute_result"
    },
    {
     "data": {
      "image/png": "[encoded data removed]",
      "text/plain": [
       "<Figure size 432x288 with 1 Axes>"
      ]
     },
     "metadata": {
      "needs_background": "light"
     },
     "output_type": "display_data"
    }
   ],
   "source": [
    "bt_pivot[\"average_rating\"].hist(bins=20)"
   ]
  },
  {
   "cell_type": "code",
   "execution_count": 47,
   "metadata": {},
   "outputs": [],
   "source": [
    "def custom_round(x, base=5):\n",
    "    return base * round(x/base)"
   ]
  },
  {
   "cell_type": "code",
   "execution_count": 48,
   "metadata": {},
   "outputs": [],
   "source": [
    "bt_pivot[\"average_rating_bin\"] = bt_pivot[\"average_rating\"].apply(lambda x: custom_round(x, base=.5))"
   ]
  },
  {
   "cell_type": "code",
   "execution_count": 49,
   "metadata": {},
   "outputs": [
    {
     "data": {
      "text/plain": [
       "<AxesSubplot:>"
      ]
     },
     "execution_count": 49,
     "metadata": {},
     "output_type": "execute_result"
    },
    {
     "data": {
      "image/png": "[encoded data removed]",
      "text/plain": [
       "<Figure size 432x288 with 1 Axes>"
      ]
     },
     "metadata": {
      "needs_background": "light"
     },
     "output_type": "display_data"
    }
   ],
   "source": [
    "bt_pivot[\"average_rating_bin\"].hist(bins=20)"
   ]
  },
  {
   "cell_type": "code",
   "execution_count": 50,
   "metadata": {},
   "outputs": [],
   "source": [
    "#bt_test = bt_pivot.loc[:\"tag_name\"][[\"ebook\", \"ebooks\", \"e-books\", \"e-book\", \"average_rating\"]]"
   ]
  },
  {
   "cell_type": "code",
   "execution_count": 51,
   "metadata": {},
   "outputs": [],
   "source": [
    "#bt_test.describe"
   ]
  },
  {
   "cell_type": "code",
   "execution_count": 52,
   "metadata": {},
   "outputs": [
    {
     "data": {
      "text/plain": [
       "98"
      ]
     },
     "execution_count": 52,
     "metadata": {},
     "output_type": "execute_result"
    }
   ],
   "source": [
    "len(bt_pivot.columns)"
   ]
  },
  {
   "cell_type": "code",
   "execution_count": 53,
   "metadata": {},
   "outputs": [],
   "source": [
    "bt_pivot.drop(labels=[\"to-buy\", \"wish-list\", \"ebook\", \"ebooks\", \"e-books\", \"e-book\", \"favorite\", \"favourites\", \n",
    "                      \"favorite-books\", \"own-it\", \"owned-books\", \"books-i-own\", \n",
    "                      \"dnf\", \"didn-t-finish\", \"abandoned\", \"4-stars\", \"5-stars\", 'read-2013', \n",
    "                      'read-2014', 'read-2015', 'read-2016', 'read-in-2011', 'read-in-2012', \n",
    "                      'read-in-2013', 'read-in-2014', 'read-in-2015', 'read-in-2016', 'read-in-2017', \n",
    "                      'audio', 'audio-book', 'audio-books','audiobooks', 'have', 'sci-fi-fantasy', \n",
    "                      'science-fiction', \"adult-fiction\", \"my-books\", 'historical', 'historical-fiction', \n",
    "                      \"unfinished\", \"ya\", \"i-own\", \"suspense\", \"crime\", \"novels\", \"contemporary-fiction\"\n",
    "                     ],axis=1, inplace=True)\n"
   ]
  },
  {
   "cell_type": "code",
   "execution_count": 54,
   "metadata": {},
   "outputs": [
    {
     "data": {
      "text/plain": [
       "Index(['average_rating', 'action', 'adult', 'adventure', 'all-time-favorites',\n",
       "       'american', 'audible', 'audiobook', 'book-club', 'books', 'borrowed',\n",
       "       'calibre', 'classics', 'contemporary', 'currently-reading', 'default',\n",
       "       'did-not-finish', 'drama', 'english', 'family', 'fantasy', 'favorites',\n",
       "       'fiction', 'finished', 'general-fiction', 'history', 'home-library',\n",
       "       'humor', 'kindle', 'library', 'library-books', 'literature', 'maybe',\n",
       "       'my-library', 'mystery', 'non-fiction', 'novel', 'owned', 'paperback',\n",
       "       're-read', 'reviewed', 'romance', 'sci-fi', 'series',\n",
       "       'shelfari-favorites', 'thriller', 'to-read', 'to-read-fiction',\n",
       "       'young-adult', 'intentions', 'read-in', 'average_rating_bin'],\n",
       "      dtype='object', name='tag_name')"
      ]
     },
     "execution_count": 54,
     "metadata": {},
     "output_type": "execute_result"
    }
   ],
   "source": [
    "bt_pivot.columns"
   ]
  },
  {
   "cell_type": "code",
   "execution_count": 55,
   "metadata": {},
   "outputs": [],
   "source": [
    "bt_pivot.to_csv(\"bt.csv\")"
   ]
  },
  {
   "cell_type": "code",
   "execution_count": 56,
   "metadata": {},
   "outputs": [],
   "source": [
    "#fig, ax = plt.subplots(figsize=(4,8))\n",
    "#sns.boxplot(data = bt_test, x=\"e-book\", y=\"average_rating\")"
   ]
  },
  {
   "cell_type": "code",
   "execution_count": 57,
   "metadata": {},
   "outputs": [],
   "source": [
    "#plt.matshow(bt_pivot.corr())\n",
    "#plt.show()"
   ]
  },
  {
   "cell_type": "code",
   "execution_count": 58,
   "metadata": {},
   "outputs": [
    {
     "data": {
      "image/png": "[encoded data removed]",
      "text/plain": [
       "<Figure size 2160x2160 with 2 Axes>"
      ]
     },
     "metadata": {
      "needs_background": "light"
     },
     "output_type": "display_data"
    }
   ],
   "source": [
    "f = plt.figure(figsize=(30, 30))\n",
    "plt.matshow(bt_pivot.corr(), fignum=f.number)\n",
    "plt.xticks(range(bt_pivot.shape[1]), bt_pivot.columns, fontsize=14, rotation=90)\n",
    "plt.yticks(range(bt_pivot.shape[1]), bt_pivot.columns, fontsize=14)\n",
    "cb = plt.colorbar()\n",
    "cb.ax.tick_params(labelsize=14)"
   ]
  },
  {
   "cell_type": "code",
   "execution_count": 59,
   "metadata": {},
   "outputs": [],
   "source": [
    "X = bt_pivot.drop([\"average_rating_bin\",\"average_rating\"], axis=1)"
   ]
  },
  {
   "cell_type": "code",
   "execution_count": 60,
   "metadata": {},
   "outputs": [
    {
     "data": {
      "text/plain": [
       "Index(['action', 'adult', 'adventure', 'all-time-favorites', 'american',\n",
       "       'audible', 'audiobook', 'book-club', 'books', 'borrowed', 'calibre',\n",
       "       'classics', 'contemporary', 'currently-reading', 'default',\n",
       "       'did-not-finish', 'drama', 'english', 'family', 'fantasy', 'favorites',\n",
       "       'fiction', 'finished', 'general-fiction', 'history', 'home-library',\n",
       "       'humor', 'kindle', 'library', 'library-books', 'literature', 'maybe',\n",
       "       'my-library', 'mystery', 'non-fiction', 'novel', 'owned', 'paperback',\n",
       "       're-read', 'reviewed', 'romance', 'sci-fi', 'series',\n",
       "       'shelfari-favorites', 'thriller', 'to-read', 'to-read-fiction',\n",
       "       'young-adult', 'intentions', 'read-in'],\n",
       "      dtype='object', name='tag_name')"
      ]
     },
     "execution_count": 60,
     "metadata": {},
     "output_type": "execute_result"
    }
   ],
   "source": [
    "X.columns"
   ]
  },
  {
   "cell_type": "markdown",
   "metadata": {},
   "source": [
    "# Lasso Regression"
   ]
  },
  {
   "cell_type": "code",
   "execution_count": 61,
   "metadata": {},
   "outputs": [],
   "source": [
    "y = bt_pivot[\"average_rating\"]"
   ]
  },
  {
   "cell_type": "code",
   "execution_count": 62,
   "metadata": {},
   "outputs": [
    {
     "data": {
      "text/plain": [
       "count    10000.000000\n",
       "mean         4.002191\n",
       "std          0.254427\n",
       "min          2.470000\n",
       "25%          3.850000\n",
       "50%          4.020000\n",
       "75%          4.180000\n",
       "max          4.820000\n",
       "Name: average_rating, dtype: float64"
      ]
     },
     "execution_count": 62,
     "metadata": {},
     "output_type": "execute_result"
    }
   ],
   "source": [
    "y.describe()"
   ]
  },
  {
   "cell_type": "code",
   "execution_count": 63,
   "metadata": {},
   "outputs": [],
   "source": [
    "reg = LassoCV(cv=10, random_state=1234, alphas=[1000,100,10,1,0.1,0.01,0.001,0.0001,0.00001,0.000001]).fit(X, y)"
   ]
  },
  {
   "cell_type": "code",
   "execution_count": 64,
   "metadata": {},
   "outputs": [
    {
     "data": {
      "text/plain": [
       "0.0001"
      ]
     },
     "execution_count": 64,
     "metadata": {},
     "output_type": "execute_result"
    }
   ],
   "source": [
    "reg.alpha_"
   ]
  },
  {
   "cell_type": "code",
   "execution_count": 65,
   "metadata": {},
   "outputs": [
    {
     "data": {
      "text/plain": [
       "47"
      ]
     },
     "execution_count": 65,
     "metadata": {},
     "output_type": "execute_result"
    }
   ],
   "source": [
    "np.sum(reg.coef_!=0)"
   ]
  },
  {
   "cell_type": "code",
   "execution_count": 66,
   "metadata": {},
   "outputs": [],
   "source": [
    "np.random.seed(seed=1234)"
   ]
  },
  {
   "cell_type": "code",
   "execution_count": 67,
   "metadata": {},
   "outputs": [],
   "source": [
    "X_train, X_test, y_train, y_test = train_test_split(X, y, test_size=0.3)"
   ]
  },
  {
   "cell_type": "code",
   "execution_count": 68,
   "metadata": {},
   "outputs": [],
   "source": [
    "y_pred = reg.predict(X_test)"
   ]
  },
  {
   "cell_type": "code",
   "execution_count": 69,
   "metadata": {},
   "outputs": [
    {
     "data": {
      "text/plain": [
       "0.41384092657465565"
      ]
     },
     "execution_count": 69,
     "metadata": {},
     "output_type": "execute_result"
    }
   ],
   "source": [
    "reg.score(X_train,y_train)"
   ]
  },
  {
   "cell_type": "code",
   "execution_count": 70,
   "metadata": {
    "scrolled": true
   },
   "outputs": [
    {
     "data": {
      "text/plain": [
       "0.4228091724548707"
      ]
     },
     "execution_count": 70,
     "metadata": {},
     "output_type": "execute_result"
    }
   ],
   "source": [
    "reg.score(X_test, y_test)"
   ]
  },
  {
   "cell_type": "code",
   "execution_count": null,
   "metadata": {},
   "outputs": [],
   "source": []
  },
  {
   "cell_type": "code",
   "execution_count": 71,
   "metadata": {},
   "outputs": [
    {
     "data": {
      "text/plain": [
       "tag_name\n",
       "all-time-favorites    0.150177\n",
       "series                0.083618\n",
       "action                0.062618\n",
       "audible               0.061950\n",
       "shelfari-favorites    0.058185\n",
       "non-fiction           0.048988\n",
       "fantasy               0.046865\n",
       "classics              0.045357\n",
       "to-read-fiction       0.041646\n",
       "currently-reading     0.033281\n",
       "re-read               0.033162\n",
       "favorites             0.025093\n",
       "intentions            0.016521\n",
       "thriller              0.015169\n",
       "family                0.012252\n",
       "history               0.010587\n",
       "adventure             0.007304\n",
       "english               0.006815\n",
       "drama                 0.004789\n",
       "adult                 0.004243\n",
       "calibre               0.002884\n",
       "finished             -0.000000\n",
       "owned                -0.000000\n",
       "to-read               0.000000\n",
       "fiction              -0.002707\n",
       "kindle               -0.006449\n",
       "maybe                -0.013552\n",
       "read-in              -0.013867\n",
       "mystery              -0.016635\n",
       "paperback            -0.020544\n",
       "default              -0.020549\n",
       "book-club            -0.022319\n",
       "contemporary         -0.022385\n",
       "library              -0.023024\n",
       "books                -0.023322\n",
       "romance              -0.024104\n",
       "sci-fi               -0.024783\n",
       "humor                -0.025061\n",
       "reviewed             -0.027758\n",
       "young-adult          -0.029039\n",
       "my-library           -0.029212\n",
       "library-books        -0.030032\n",
       "american             -0.036453\n",
       "borrowed             -0.040366\n",
       "home-library         -0.042833\n",
       "literature           -0.053269\n",
       "general-fiction      -0.057336\n",
       "novel                -0.067369\n",
       "audiobook            -0.067895\n",
       "did-not-finish       -0.104926\n",
       "dtype: float64"
      ]
     },
     "execution_count": 71,
     "metadata": {},
     "output_type": "execute_result"
    }
   ],
   "source": [
    "pd.Series(reg.coef_, X.columns).sort_values(ascending=False)"
   ]
  },
  {
   "cell_type": "code",
   "execution_count": 72,
   "metadata": {},
   "outputs": [
    {
     "name": "stdout",
     "output_type": "stream",
     "text": [
      "The Mean Squared Error of our forecasts is 0.04\n"
     ]
    }
   ],
   "source": [
    "mse = ((y_pred - y_test) ** 2).mean()\n",
    "print('The Mean Squared Error of our forecasts is {}'.format(round(mse, 2)))"
   ]
  },
  {
   "cell_type": "code",
   "execution_count": 73,
   "metadata": {},
   "outputs": [
    {
     "name": "stdout",
     "output_type": "stream",
     "text": [
      "The Root Mean Squared Error of our forecasts is 0.19\n"
     ]
    }
   ],
   "source": [
    "print('The Root Mean Squared Error of our forecasts is {}'.format(round(np.sqrt(mse), 2)))"
   ]
  },
  {
   "cell_type": "code",
   "execution_count": 74,
   "metadata": {},
   "outputs": [
    {
     "name": "stdout",
     "output_type": "stream",
     "text": [
      "The Mean Average Percentage Error of our forecasts is 3.694903821110809\n"
     ]
    }
   ],
   "source": [
    "print('The Mean Average Percentage Error of our forecasts is {}'\n",
    "      .format(np.mean(np.abs((y_test - y_pred) / y_test)) * 100))"
   ]
  },
  {
   "cell_type": "markdown",
   "metadata": {},
   "source": [
    "# Random Forest"
   ]
  },
  {
   "cell_type": "code",
   "execution_count": 75,
   "metadata": {},
   "outputs": [],
   "source": [
    "y = bt_pivot[\"average_rating_bin\"].astype('str')"
   ]
  },
  {
   "cell_type": "code",
   "execution_count": 76,
   "metadata": {},
   "outputs": [
    {
     "data": {
      "text/plain": [
       "count     10000\n",
       "unique        6\n",
       "top         4.0\n",
       "freq       7053\n",
       "Name: average_rating_bin, dtype: object"
      ]
     },
     "execution_count": 76,
     "metadata": {},
     "output_type": "execute_result"
    }
   ],
   "source": [
    "y.describe()"
   ]
  },
  {
   "cell_type": "code",
   "execution_count": 77,
   "metadata": {},
   "outputs": [],
   "source": [
    "np.random.seed(seed=1234)"
   ]
  },
  {
   "cell_type": "code",
   "execution_count": 78,
   "metadata": {},
   "outputs": [],
   "source": [
    "X_train, X_test, y_train, y_test = train_test_split(X, y, test_size=0.3)"
   ]
  },
  {
   "cell_type": "code",
   "execution_count": 79,
   "metadata": {},
   "outputs": [],
   "source": [
    "cw = {\n",
    "    '2.5': 100,\n",
    "    '3.0': 100,\n",
    "    '3.5': 20,\n",
    "    '4.0': 1,\n",
    "    '4.5': 20,\n",
    "    '5.0': 100    \n",
    "}"
   ]
  },
  {
   "cell_type": "code",
   "execution_count": 80,
   "metadata": {},
   "outputs": [],
   "source": [
    "clf = RandomForestClassifier(n_estimators=100, class_weight=cw, random_state=1234)\n",
    "\n",
    "#Train the model using the training sets y_pred=clf.predict(X_test)\n",
    "clf.fit(X_train,y_train)\n",
    "\n",
    "y_pred=clf.predict(X_test)"
   ]
  },
  {
   "cell_type": "code",
   "execution_count": 81,
   "metadata": {},
   "outputs": [
    {
     "data": {
      "text/plain": [
       "RandomForestClassifier(class_weight={'2.5': 100, '3.0': 100, '3.5': 20,\n",
       "                                     '4.0': 1, '4.5': 20, '5.0': 100},\n",
       "                       random_state=1234)"
      ]
     },
     "execution_count": 81,
     "metadata": {},
     "output_type": "execute_result"
    }
   ],
   "source": [
    "clf"
   ]
  },
  {
   "cell_type": "code",
   "execution_count": 82,
   "metadata": {},
   "outputs": [
    {
     "name": "stdout",
     "output_type": "stream",
     "text": [
      "Accuracy: 0.751\n"
     ]
    }
   ],
   "source": [
    "print(\"Accuracy:\",metrics.accuracy_score(y_test, y_pred))"
   ]
  },
  {
   "cell_type": "code",
   "execution_count": 83,
   "metadata": {},
   "outputs": [
    {
     "name": "stdout",
     "output_type": "stream",
     "text": [
      "F1-score: 0.7064504983256006\n"
     ]
    }
   ],
   "source": [
    "print(\"F1-score:\",metrics.f1_score(y_test, y_pred,average='weighted'))"
   ]
  },
  {
   "cell_type": "code",
   "execution_count": 84,
   "metadata": {},
   "outputs": [
    {
     "data": {
      "text/plain": [
       "array([[   0,    0,    1,    0,    0,    0],\n",
       "       [   0,    0,    6,   10,    0,    0],\n",
       "       [   0,    1,   78,  323,    1,    0],\n",
       "       [   0,    0,   41, 2037,   61,    0],\n",
       "       [   0,    0,    0,  300,  138,    0],\n",
       "       [   0,    0,    0,    2,    1,    0]])"
      ]
     },
     "execution_count": 84,
     "metadata": {},
     "output_type": "execute_result"
    }
   ],
   "source": [
    "metrics.confusion_matrix(y_test, y_pred)"
   ]
  },
  {
   "cell_type": "code",
   "execution_count": 85,
   "metadata": {},
   "outputs": [
    {
     "data": {
      "text/plain": [
       "tag_name\n",
       "all-time-favorites    0.059581\n",
       "did-not-finish        0.051074\n",
       "general-fiction       0.046633\n",
       "novel                 0.035730\n",
       "book-club             0.033906\n",
       "series                0.030721\n",
       "re-read               0.026898\n",
       "borrowed              0.026492\n",
       "american              0.024337\n",
       "contemporary          0.023975\n",
       "dtype: float64"
      ]
     },
     "execution_count": 85,
     "metadata": {},
     "output_type": "execute_result"
    }
   ],
   "source": [
    "feature_imp = pd.Series(clf.feature_importances_,index=X.columns).sort_values(ascending=False)\n",
    "feature_imp[:10]"
   ]
  },
  {
   "cell_type": "code",
   "execution_count": null,
   "metadata": {},
   "outputs": [],
   "source": []
  }
 ],
 "metadata": {
  "kernelspec": {
   "display_name": "booksweread",
   "language": "python",
   "name": "booksweread"
  },
  "language_info": {
   "codemirror_mode": {
    "name": "ipython",
    "version": 3
   },
   "file_extension": ".py",
   "mimetype": "text/x-python",
   "name": "python",
   "nbconvert_exporter": "python",
   "pygments_lexer": "ipython3",
   "version": "3.9.1"
  }
 },
 "nbformat": 4,
 "nbformat_minor": 1
}
